{
 "cells": [
  {
   "cell_type": "markdown",
   "metadata": {},
   "source": [
    "### RAGAS\n"
   ]
  },
  {
   "cell_type": "code",
   "execution_count": null,
   "metadata": {},
   "outputs": [],
   "source": [
    "from dotenv import load_dotenv\n",
    "import os\n",
    "# load .env file to environment\n",
    "load_dotenv()\n",
    "\n",
    "OPEN_API_KEY = os.getenv(\"OPENAI_API_KEY\")\n",
    "QDRANT_API_KEY = os.getenv(\"QDRANT_API_KEY\")\n",
    "QDRANT_URL = os.getenv(\"QDRANT_URL\")\n"
   ]
  },
  {
   "cell_type": "code",
   "execution_count": 1,
   "metadata": {},
   "outputs": [],
   "source": [
    "from langchain.document_loaders import JSONLoader\n",
    "from langchain.embeddings import OpenAIEmbeddings\n",
    "from langchain.vectorstores import Qdrant\n",
    "from qdrant_client import QdrantClient\n",
    "\n",
    "# Load JSON data\n",
    "loader = JSONLoader(\n",
    "    file_path=\"careers.json\",\n",
    "    jq_schema=\".[] | {job_name: .job_name, description: .description, spec: .spec}\",\n",
    "    text_content=False  # We extract structured fields\n",
    ")\n",
    "documents = loader.load()"
   ]
  },
  {
   "cell_type": "code",
   "execution_count": 4,
   "metadata": {},
   "outputs": [
    {
     "name": "stderr",
     "output_type": "stream",
     "text": [
      "/tmp/ipykernel_676097/3817641369.py:5: LangChainDeprecationWarning: The class `OpenAIEmbeddings` was deprecated in LangChain 0.0.9 and will be removed in 1.0. An updated version of the class exists in the :class:`~langchain-openai package and should be used instead. To use it run `pip install -U :class:`~langchain-openai` and import as `from :class:`~langchain_openai import OpenAIEmbeddings``.\n",
      "  generator_embeddings = LangchainEmbeddingsWrapper(OpenAIEmbeddings())\n"
     ]
    }
   ],
   "source": [
    "from ragas.llms import LangchainLLMWrapper\n",
    "from ragas.embeddings import LangchainEmbeddingsWrapper\n",
    "from langchain_openai import ChatOpenAI\n",
    "generator_llm = LangchainLLMWrapper(ChatOpenAI(model=\"gpt-4o\", api_key=OPEN_API_KEY))\n",
    "generator_embeddings = LangchainEmbeddingsWrapper(OpenAIEmbeddings())"
   ]
  },
  {
   "cell_type": "code",
   "execution_count": 19,
   "metadata": {},
   "outputs": [
    {
     "name": "stderr",
     "output_type": "stream",
     "text": [
      "Generating personas: 100%|██████████| 3/3 [00:01<00:00,  2.31it/s]                                           \n",
      "Generating Scenarios: 100%|██████████| 2/2 [00:05<00:00,  2.95s/it]\n",
      "Generating Samples: 100%|██████████| 4/4 [00:06<00:00,  1.55s/it]\n"
     ]
    }
   ],
   "source": [
    "from ragas.testset import TestsetGenerator\n",
    "\n",
    "generator = TestsetGenerator(llm=generator_llm, embedding_model=generator_embeddings)\n",
    "golden_dataset = generator.generate_with_langchain_docs(documents, testset_size=5)"
   ]
  },
  {
   "cell_type": "code",
   "execution_count": null,
   "metadata": {},
   "outputs": [],
   "source": []
  },
  {
   "cell_type": "code",
   "execution_count": null,
   "metadata": {},
   "outputs": [],
   "source": [
    "from langchain_qdrant import QdrantVectorStore\n",
    "\n",
    "client = QdrantClient(url=QDRANT_URL, api_key=QDRANT_API_KEY)\n",
    "embedding_model = OpenAIEmbeddings(model=\"text-embedding-3-small\")\n",
    "embedding_dim = 1536\n",
    "\n",
    "jobs_vector_store = QdrantVectorStore(\n",
    "    client=client,\n",
    "    collection_name=\"job_definitions\",\n",
    "    embedding=embedding_model,\n",
    ")\n",
    "jobs_retriever = jobs_vector_store.as_retriever(search_kwargs={\"k\":4})\n"
   ]
  },
  {
   "cell_type": "code",
   "execution_count": 10,
   "metadata": {},
   "outputs": [],
   "source": [
    "from langchain_core.prompts import ChatPromptTemplate\n",
    "\n",
    "RAG_TEMPLATE = \"\"\"\\\n",
    "You are a helpful and kind assistant. Use the context provided below to answer the question.\n",
    "\n",
    "If you do not know the answer, or are unsure, say you don't know.\n",
    "\n",
    "Query:\n",
    "{question}\n",
    "\n",
    "Context:\n",
    "{context}\n",
    "\"\"\"\n",
    "\n",
    "rag_prompt = ChatPromptTemplate.from_template(RAG_TEMPLATE)"
   ]
  },
  {
   "cell_type": "code",
   "execution_count": 11,
   "metadata": {},
   "outputs": [],
   "source": [
    "from langchain_openai import ChatOpenAI\n",
    "\n",
    "chat_model = ChatOpenAI()"
   ]
  },
  {
   "cell_type": "code",
   "execution_count": 13,
   "metadata": {},
   "outputs": [],
   "source": [
    "from langchain_core.runnables import RunnablePassthrough\n",
    "from operator import itemgetter\n",
    "from langchain_core.output_parsers import StrOutputParser\n",
    "\n",
    "naive_retrieval_chain = (\n",
    "    # INVOKE CHAIN WITH: {\"question\" : \"<<SOME USER QUESTION>>\"}\n",
    "    # \"question\" : populated by getting the value of the \"question\" key\n",
    "    # \"context\"  : populated by getting the value of the \"question\" key and chaining it into the base_retriever\n",
    "    {\"context\": itemgetter(\"question\") | jobs_retriever, \"question\": itemgetter(\"question\")}\n",
    "    # \"context\"  : is assigned to a RunnablePassthrough object (will not be called or considered in the next step)\n",
    "    #              by getting the value of the \"context\" key from the previous step\n",
    "    | RunnablePassthrough.assign(context=itemgetter(\"context\"))\n",
    "    # \"response\" : the \"context\" and \"question\" values are used to format our prompt object and then piped\n",
    "    #              into the LLM and stored in a key called \"response\"\n",
    "    # \"context\"  : populated by getting the value of the \"context\" key from the previous step\n",
    "    | {\"response\": rag_prompt | chat_model, \"context\": itemgetter(\"context\")}\n",
    ")"
   ]
  },
  {
   "cell_type": "code",
   "execution_count": 14,
   "metadata": {},
   "outputs": [
    {
     "data": {
      "text/plain": [
       "'A job related to web development is \"Développeur Full Stack.\" This role involves designing and developing complete web applications from front-end to back-end using technologies like JavaScript, Node.js, React, Vue.js, Python, SQL, and NoSQL.'"
      ]
     },
     "execution_count": 14,
     "metadata": {},
     "output_type": "execute_result"
    }
   ],
   "source": [
    "naive_retrieval_chain.invoke({\"question\" : \"Give me a job relatd to web development\"})[\"response\"].content"
   ]
  },
  {
   "cell_type": "code",
   "execution_count": 21,
   "metadata": {},
   "outputs": [],
   "source": [
    "for test_row in golden_dataset:\n",
    "  response = naive_retrieval_chain.invoke({\"question\" : test_row.eval_sample.user_input})\n",
    "  test_row.eval_sample.response = response[\"response\"].content\n",
    "  test_row.eval_sample.retrieved_contexts = [context.page_content for context in response[\"context\"]]\n",
    "\n",
    "dataset=golden_dataset.to_pandas()"
   ]
  },
  {
   "cell_type": "code",
   "execution_count": 22,
   "metadata": {},
   "outputs": [],
   "source": [
    "from ragas import EvaluationDataset\n",
    "\n",
    "evaluation_dataset = EvaluationDataset.from_pandas(dataset)"
   ]
  },
  {
   "cell_type": "code",
   "execution_count": 23,
   "metadata": {},
   "outputs": [],
   "source": [
    "from ragas import evaluate\n",
    "from ragas.llms import LangchainLLMWrapper\n",
    "\n",
    "evaluator_llm = LangchainLLMWrapper(ChatOpenAI(model=\"gpt-4o\"))"
   ]
  },
  {
   "cell_type": "code",
   "execution_count": 26,
   "metadata": {},
   "outputs": [
    {
     "name": "stderr",
     "output_type": "stream",
     "text": [
      "Evaluating: 100%|██████████| 24/24 [05:28<00:00, 13.69s/it]\n"
     ]
    },
    {
     "data": {
      "text/plain": [
       "{'context_recall': 1.0000, 'faithfulness': 0.3184, 'factual_correctness': 0.2650, 'answer_relevancy': 0.9656, 'context_entity_recall': 0.3854, 'noise_sensitivity_relevant': 0.1462}"
      ]
     },
     "execution_count": 26,
     "metadata": {},
     "output_type": "execute_result"
    }
   ],
   "source": [
    "from ragas.metrics import LLMContextRecall, Faithfulness, FactualCorrectness, ResponseRelevancy, ContextEntityRecall, NoiseSensitivity\n",
    "from ragas import evaluate, RunConfig\n",
    "\n",
    "custom_run_config = RunConfig(timeout=360)\n",
    "\n",
    "result = evaluate(\n",
    "    dataset=evaluation_dataset,\n",
    "    metrics=[LLMContextRecall(), Faithfulness(), FactualCorrectness(), ResponseRelevancy(), ContextEntityRecall(), NoiseSensitivity()],\n",
    "    llm=evaluator_llm,\n",
    "    run_config=custom_run_config\n",
    ")\n",
    "result"
   ]
  },
  {
   "cell_type": "code",
   "execution_count": 28,
   "metadata": {},
   "outputs": [
    {
     "data": {
      "text/plain": [
       "{'context_recall': 1.0000, 'faithfulness': 0.3184, 'factual_correctness': 0.2650, 'answer_relevancy': 0.9656, 'context_entity_recall': 0.3854, 'noise_sensitivity_relevant': 0.1462}"
      ]
     },
     "execution_count": 28,
     "metadata": {},
     "output_type": "execute_result"
    }
   ],
   "source": [
    "result"
   ]
  },
  {
   "cell_type": "code",
   "execution_count": 31,
   "metadata": {},
   "outputs": [
    {
     "data": {
      "text/html": [
       "<div>\n",
       "<style scoped>\n",
       "    .dataframe tbody tr th:only-of-type {\n",
       "        vertical-align: middle;\n",
       "    }\n",
       "\n",
       "    .dataframe tbody tr th {\n",
       "        vertical-align: top;\n",
       "    }\n",
       "\n",
       "    .dataframe thead th {\n",
       "        text-align: right;\n",
       "    }\n",
       "</style>\n",
       "<table border=\"1\" class=\"dataframe\">\n",
       "  <thead>\n",
       "    <tr style=\"text-align: right;\">\n",
       "      <th></th>\n",
       "      <th>user_input</th>\n",
       "      <th>retrieved_contexts</th>\n",
       "      <th>reference_contexts</th>\n",
       "      <th>response</th>\n",
       "      <th>reference</th>\n",
       "      <th>context_recall</th>\n",
       "      <th>faithfulness</th>\n",
       "      <th>factual_correctness</th>\n",
       "      <th>answer_relevancy</th>\n",
       "      <th>context_entity_recall</th>\n",
       "      <th>noise_sensitivity_relevant</th>\n",
       "    </tr>\n",
       "  </thead>\n",
       "  <tbody>\n",
       "    <tr>\n",
       "      <th>0</th>\n",
       "      <td>What role do APIs play in the responsibilities...</td>\n",
       "      <td>[{\"job_name\": \"D\\u00e9veloppeur Backend\", \"des...</td>\n",
       "      <td>[{\"job_name\": \"D\\u00e9veloppeur Backend\", \"des...</td>\n",
       "      <td>The role of APIs in the responsibilities of a ...</td>\n",
       "      <td>A Backend Developer is often in charge of the ...</td>\n",
       "      <td>1.0</td>\n",
       "      <td>0.333333</td>\n",
       "      <td>0.33</td>\n",
       "      <td>0.990865</td>\n",
       "      <td>0.125000</td>\n",
       "      <td>0.000000</td>\n",
       "    </tr>\n",
       "    <tr>\n",
       "      <th>1</th>\n",
       "      <td>What role does CI/CD play in the responsibilit...</td>\n",
       "      <td>[{\"job_name\": \"Ing\\u00e9nieur DevOps\", \"descri...</td>\n",
       "      <td>[{\"job_name\": \"Ing\\u00e9nieur DevOps\", \"descri...</td>\n",
       "      <td>CI/CD, which stands for Continuous Integration...</td>\n",
       "      <td>A DevOps Engineer uses CI/CD tools to automate...</td>\n",
       "      <td>1.0</td>\n",
       "      <td>0.222222</td>\n",
       "      <td>0.46</td>\n",
       "      <td>1.000000</td>\n",
       "      <td>0.000000</td>\n",
       "      <td>0.000000</td>\n",
       "    </tr>\n",
       "    <tr>\n",
       "      <th>2</th>\n",
       "      <td>Azure do what in cloud?</td>\n",
       "      <td>[{\"job_name\": \"Ing\\u00e9nieur en Cloud Computi...</td>\n",
       "      <td>[{\"job_name\": \"Ing\\u00e9nieur en Cloud Computi...</td>\n",
       "      <td>Azure is a cloud computing platform that provi...</td>\n",
       "      <td>L’ingénieur Cloud déploie et gère les infrastr...</td>\n",
       "      <td>1.0</td>\n",
       "      <td>0.333333</td>\n",
       "      <td>0.17</td>\n",
       "      <td>0.903922</td>\n",
       "      <td>0.833333</td>\n",
       "      <td>0.200000</td>\n",
       "    </tr>\n",
       "    <tr>\n",
       "      <th>3</th>\n",
       "      <td>In the context of cloud infrastructure managem...</td>\n",
       "      <td>[{\"job_name\": \"Ing\\u00e9nieur DevOps\", \"descri...</td>\n",
       "      <td>[&lt;1-hop&gt;\\n\\n{\"job_name\": \"Ing\\u00e9nieur en Cl...</td>\n",
       "      <td>DevOps practices facilitate collaboration betw...</td>\n",
       "      <td>DevOps practices play a crucial role in facili...</td>\n",
       "      <td>1.0</td>\n",
       "      <td>0.384615</td>\n",
       "      <td>0.10</td>\n",
       "      <td>0.967590</td>\n",
       "      <td>0.583333</td>\n",
       "      <td>0.384615</td>\n",
       "    </tr>\n",
       "  </tbody>\n",
       "</table>\n",
       "</div>"
      ],
      "text/plain": [
       "                                          user_input  \\\n",
       "0  What role do APIs play in the responsibilities...   \n",
       "1  What role does CI/CD play in the responsibilit...   \n",
       "2                            Azure do what in cloud?   \n",
       "3  In the context of cloud infrastructure managem...   \n",
       "\n",
       "                                  retrieved_contexts  \\\n",
       "0  [{\"job_name\": \"D\\u00e9veloppeur Backend\", \"des...   \n",
       "1  [{\"job_name\": \"Ing\\u00e9nieur DevOps\", \"descri...   \n",
       "2  [{\"job_name\": \"Ing\\u00e9nieur en Cloud Computi...   \n",
       "3  [{\"job_name\": \"Ing\\u00e9nieur DevOps\", \"descri...   \n",
       "\n",
       "                                  reference_contexts  \\\n",
       "0  [{\"job_name\": \"D\\u00e9veloppeur Backend\", \"des...   \n",
       "1  [{\"job_name\": \"Ing\\u00e9nieur DevOps\", \"descri...   \n",
       "2  [{\"job_name\": \"Ing\\u00e9nieur en Cloud Computi...   \n",
       "3  [<1-hop>\\n\\n{\"job_name\": \"Ing\\u00e9nieur en Cl...   \n",
       "\n",
       "                                            response  \\\n",
       "0  The role of APIs in the responsibilities of a ...   \n",
       "1  CI/CD, which stands for Continuous Integration...   \n",
       "2  Azure is a cloud computing platform that provi...   \n",
       "3  DevOps practices facilitate collaboration betw...   \n",
       "\n",
       "                                           reference  context_recall  \\\n",
       "0  A Backend Developer is often in charge of the ...             1.0   \n",
       "1  A DevOps Engineer uses CI/CD tools to automate...             1.0   \n",
       "2  L’ingénieur Cloud déploie et gère les infrastr...             1.0   \n",
       "3  DevOps practices play a crucial role in facili...             1.0   \n",
       "\n",
       "   faithfulness  factual_correctness  answer_relevancy  context_entity_recall  \\\n",
       "0      0.333333                 0.33          0.990865               0.125000   \n",
       "1      0.222222                 0.46          1.000000               0.000000   \n",
       "2      0.333333                 0.17          0.903922               0.833333   \n",
       "3      0.384615                 0.10          0.967590               0.583333   \n",
       "\n",
       "   noise_sensitivity_relevant  \n",
       "0                    0.000000  \n",
       "1                    0.000000  \n",
       "2                    0.200000  \n",
       "3                    0.384615  "
      ]
     },
     "execution_count": 31,
     "metadata": {},
     "output_type": "execute_result"
    }
   ],
   "source": [
    "result.to_pandas()"
   ]
  },
  {
   "cell_type": "code",
   "execution_count": null,
   "metadata": {},
   "outputs": [],
   "source": []
  }
 ],
 "metadata": {
  "kernelspec": {
   "display_name": ".venv",
   "language": "python",
   "name": "python3"
  },
  "language_info": {
   "codemirror_mode": {
    "name": "ipython",
    "version": 3
   },
   "file_extension": ".py",
   "mimetype": "text/x-python",
   "name": "python",
   "nbconvert_exporter": "python",
   "pygments_lexer": "ipython3",
   "version": "3.13.1"
  }
 },
 "nbformat": 4,
 "nbformat_minor": 2
}
